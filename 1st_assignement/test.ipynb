{
 "cells": [
  {
   "cell_type": "code",
   "execution_count": 6,
   "metadata": {},
   "outputs": [],
   "source": [
    "from neural_language_model import TextDataset, create_dataloaders, ft_embedding"
   ]
  },
  {
   "cell_type": "code",
   "execution_count": null,
   "metadata": {},
   "outputs": [],
   "source": [
    "# import zipfile\n",
    "# path_to_zip_file = '/scratch/hmnshpl/anlp_data/glove.6B.zip'\n",
    "# directory_to_extract_to = '/scratch/hmnshpl/anlp_data'\n",
    "# zip_ref = zipfile.ZipFile(path_to_zip_file, 'r')\n",
    "# zip_ref.extractall(directory_to_extract_to)\n",
    "# zip_ref.close()"
   ]
  },
  {
   "cell_type": "code",
   "execution_count": 5,
   "metadata": {},
   "outputs": [
    {
     "name": "stdout",
     "output_type": "stream",
     "text": [
      "loaded embedding     \n",
      "Contexts Shape: torch.Size([32, 5, 300])\n",
      "Targets Shape: torch.Size([32])\n"
     ]
    }
   ],
   "source": [
    "print(f'loading embedding', end='\\r')\n",
    "embedding_model = ft_embedding.load_glove_embeddings()\n",
    "print(f'loaded embedding     ')\n",
    "\n",
    "file_path = '/scratch/hmnshpl/anlp_data/Auguste_Maquet.txt'  # Example path to dataset file\n",
    "embedding_dim = 300  # Make sure it matches the dimensionality of your pre-trained embeddings\n",
    "\n",
    "# Create the dataset instance\n",
    "dataset = TextDataset(file_path, embedding_model, embedding_dim=embedding_dim)\n",
    "\n",
    "# Create DataLoader\n",
    "batch_size = 32  # Example batch size\n",
    "train_loader = create_dataloaders(dataset, batch_size=batch_size)\n",
    "\n",
    "# Example of iterating through the DataLoader\n",
    "for batch in train_loader:\n",
    "    contexts, targets = batch\n",
    "    print(\"Contexts Shape:\", contexts.shape)  # Should be (batch_size, context_size, embedding_dim)\n",
    "    print(\"Targets Shape:\", targets.shape)    # Should be (batch_size,)\n",
    "    break  # Remove this line to go through the whole dataset\n"
   ]
  },
  {
   "cell_type": "code",
   "execution_count": null,
   "metadata": {},
   "outputs": [],
   "source": []
  }
 ],
 "metadata": {
  "kernelspec": {
   "display_name": "anlp",
   "language": "python",
   "name": "python3"
  },
  "language_info": {
   "codemirror_mode": {
    "name": "ipython",
    "version": 3
   },
   "file_extension": ".py",
   "mimetype": "text/x-python",
   "name": "python",
   "nbconvert_exporter": "python",
   "pygments_lexer": "ipython3",
   "version": "3.10.14"
  }
 },
 "nbformat": 4,
 "nbformat_minor": 2
}

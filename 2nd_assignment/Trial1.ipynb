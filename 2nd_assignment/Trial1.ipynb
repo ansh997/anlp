{
 "cells": [
  {
   "cell_type": "code",
   "execution_count": 1,
   "metadata": {},
   "outputs": [],
   "source": [
    "scratch_location='/scratch/hmnshpl/anlp_data'\n",
    "\n",
    "data_folder_name='ted-talks-corpus'"
   ]
  },
  {
   "cell_type": "code",
   "execution_count": 2,
   "metadata": {},
   "outputs": [],
   "source": [
    "import os"
   ]
  },
  {
   "cell_type": "code",
   "execution_count": 3,
   "metadata": {},
   "outputs": [
    {
     "name": "stdout",
     "output_type": "stream",
     "text": [
      "/scratch/hmnshpl/anlp_data/ted-talks-corpus\n"
     ]
    }
   ],
   "source": [
    "filepath = os.path.join(scratch_location, data_folder_name)\n",
    "print(filepath)"
   ]
  },
  {
   "cell_type": "code",
   "execution_count": 4,
   "metadata": {},
   "outputs": [
    {
     "data": {
      "text/plain": [
       "['test.fr', 'dev.en', 'train.fr', 'train.en', 'dev.fr', 'test.en']"
      ]
     },
     "execution_count": 4,
     "metadata": {},
     "output_type": "execute_result"
    }
   ],
   "source": [
    "os.listdir(filepath)"
   ]
  },
  {
   "cell_type": "code",
   "execution_count": 6,
   "metadata": {},
   "outputs": [
    {
     "name": "stdout",
     "output_type": "stream",
     "text": [
      "When I was in my 20s, I saw my very first psychotherapy client.\n",
      "I was a Ph.D. student in clinical psychology at Berkeley.\n",
      "She was a 26-year-old woman named Alex.\n",
      "Now Alex walked into her first session wearing jeans and a big slouchy top, and she dropped onto the couch in my office and kicked off her flats and told me she was there to talk about guy problems.\n",
      "Now when I heard this, I was so relieved.\n",
      "My classmate got an arsonist for her first client.\n",
      "And I got a twentysomething who wanted to talk about boys.\n",
      "This I thought I could handle.\n",
      "But I didn't handle it.\n",
      "With the funny stories that Alex would bring to session, it was easy for me just to nod my head while we kicked the can down the road.\n",
      "\"Thirty's the new 20,\" Alex would say, and as far as I could tell, she was right.\n",
      "Work happened later, marriage happened later, kids happened later, even death happened later.\n",
      "Twentysomethings like Alex and I had nothing but time.\n",
      "But before long, my supervisor pushed me to push Alex about her lo\n"
     ]
    }
   ],
   "source": [
    "file_path = os.path.join(filepath, 'test.en')\n",
    "with open(file_path, 'r') as file:\n",
    "    content = file.read()\n",
    "print(content[:1000])"
   ]
  },
  {
   "cell_type": "code",
   "execution_count": null,
   "metadata": {},
   "outputs": [],
   "source": []
  }
 ],
 "metadata": {
  "kernelspec": {
   "display_name": "anlp",
   "language": "python",
   "name": "python3"
  },
  "language_info": {
   "codemirror_mode": {
    "name": "ipython",
    "version": 3
   },
   "file_extension": ".py",
   "mimetype": "text/x-python",
   "name": "python",
   "nbconvert_exporter": "python",
   "pygments_lexer": "ipython3",
   "version": "3.10.14"
  }
 },
 "nbformat": 4,
 "nbformat_minor": 2
}
